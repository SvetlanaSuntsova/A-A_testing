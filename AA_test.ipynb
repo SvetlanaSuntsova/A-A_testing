{
 "cells": [
  {
   "cell_type": "markdown",
   "id": "b1221937-e446-4cdd-8ac9-800c18b3ab0c",
   "metadata": {},
   "source": [
    "#### Eсть данные А/А-теста. Нужно сделать симуляцию, как будто мы провели 10000 А/А-тестов. На каждой итерации  нужно сформировать подвыборки с повторением с размером с группу пользователей из 0 и 1  экспериментальной группы. Провести сравнение этих подвыборок t-testом.\n",
    "\n",
    "##### 1. Построить гистограмму распределения получившихся 10000 p-values.\n",
    "##### 2. Посчитать, какой процент p values оказался <= 0.05.\n",
    "##### 3. Написать вывод по проведенному А/А-тесту, корректно ли работает наша система сплитования."
   ]
  },
  {
   "cell_type": "code",
   "execution_count": 11,
   "id": "c12a7d3a-1a34-4fb7-aabb-ef9380e94d53",
   "metadata": {},
   "outputs": [],
   "source": [
    "# Подключаемся в БД.\n",
    "connection = {'host': 'https://clickhouse.lab.karpov.courses',\n",
    "'database':'simulator_20231220',\n",
    "'user':'student',\n",
    "'password':'dpo_python_2020'\n",
    "}"
   ]
  },
  {
   "cell_type": "code",
   "execution_count": 12,
   "id": "895346c7-8357-405b-8a29-ce6545ef537a",
   "metadata": {},
   "outputs": [],
   "source": [
    "# Загружаем библиотеки и модули.\n",
    "import pandas as pd\n",
    "import pandahouse as ph\n",
    "import seaborn as sns\n",
    "import matplotlib.pyplot as plt\n",
    "import numpy as np\n",
    "import hashlib\n",
    "import swifter\n",
    "from scipy import stats\n",
    "%matplotlib inline"
   ]
  },
  {
   "cell_type": "code",
   "execution_count": 13,
   "id": "2ab3259d-9253-480c-98a2-1968a638db3f",
   "metadata": {},
   "outputs": [],
   "source": [
    "# Делаем заппрс в БД\n",
    "q = '''\n",
    "select  exp_group, \n",
    "    user_id,\n",
    "    sum(action = 'like') as likes,\n",
    "    sum(action = 'view') as views,\n",
    "    likes/views as ctr\n",
    "from {db}.feed_actions\n",
    "where toDate(time) >= '2023-11-11' and toDate(time) <= '2023-11-17' and  exp_group in (0,1)\n",
    "GROUP BY exp_group, user_id\n",
    "'''\n",
    "df = ph.read_clickhouse(q, connection=connection)"
   ]
  },
  {
   "cell_type": "code",
   "execution_count": 14,
   "id": "ecd76cd4-833e-4d6e-90ef-4549bd73627f",
   "metadata": {},
   "outputs": [
    {
     "data": {
      "text/html": [
       "<div>\n",
       "<style scoped>\n",
       "    .dataframe tbody tr th:only-of-type {\n",
       "        vertical-align: middle;\n",
       "    }\n",
       "\n",
       "    .dataframe tbody tr th {\n",
       "        vertical-align: top;\n",
       "    }\n",
       "\n",
       "    .dataframe thead th {\n",
       "        text-align: right;\n",
       "    }\n",
       "</style>\n",
       "<table border=\"1\" class=\"dataframe\">\n",
       "  <thead>\n",
       "    <tr style=\"text-align: right;\">\n",
       "      <th></th>\n",
       "      <th>exp_group</th>\n",
       "      <th>user_id</th>\n",
       "      <th>likes</th>\n",
       "      <th>views</th>\n",
       "      <th>ctr</th>\n",
       "    </tr>\n",
       "  </thead>\n",
       "  <tbody>\n",
       "    <tr>\n",
       "      <th>0</th>\n",
       "      <td>1</td>\n",
       "      <td>109963</td>\n",
       "      <td>10</td>\n",
       "      <td>34</td>\n",
       "      <td>0.294118</td>\n",
       "    </tr>\n",
       "    <tr>\n",
       "      <th>1</th>\n",
       "      <td>1</td>\n",
       "      <td>18392</td>\n",
       "      <td>13</td>\n",
       "      <td>56</td>\n",
       "      <td>0.232143</td>\n",
       "    </tr>\n",
       "    <tr>\n",
       "      <th>2</th>\n",
       "      <td>0</td>\n",
       "      <td>4504</td>\n",
       "      <td>26</td>\n",
       "      <td>71</td>\n",
       "      <td>0.366197</td>\n",
       "    </tr>\n",
       "    <tr>\n",
       "      <th>3</th>\n",
       "      <td>0</td>\n",
       "      <td>121508</td>\n",
       "      <td>23</td>\n",
       "      <td>109</td>\n",
       "      <td>0.211009</td>\n",
       "    </tr>\n",
       "    <tr>\n",
       "      <th>4</th>\n",
       "      <td>0</td>\n",
       "      <td>129565</td>\n",
       "      <td>26</td>\n",
       "      <td>159</td>\n",
       "      <td>0.163522</td>\n",
       "    </tr>\n",
       "    <tr>\n",
       "      <th>...</th>\n",
       "      <td>...</td>\n",
       "      <td>...</td>\n",
       "      <td>...</td>\n",
       "      <td>...</td>\n",
       "      <td>...</td>\n",
       "    </tr>\n",
       "    <tr>\n",
       "      <th>16814</th>\n",
       "      <td>1</td>\n",
       "      <td>23359</td>\n",
       "      <td>29</td>\n",
       "      <td>188</td>\n",
       "      <td>0.154255</td>\n",
       "    </tr>\n",
       "    <tr>\n",
       "      <th>16815</th>\n",
       "      <td>0</td>\n",
       "      <td>3681</td>\n",
       "      <td>13</td>\n",
       "      <td>74</td>\n",
       "      <td>0.175676</td>\n",
       "    </tr>\n",
       "    <tr>\n",
       "      <th>16816</th>\n",
       "      <td>1</td>\n",
       "      <td>110956</td>\n",
       "      <td>11</td>\n",
       "      <td>65</td>\n",
       "      <td>0.169231</td>\n",
       "    </tr>\n",
       "    <tr>\n",
       "      <th>16817</th>\n",
       "      <td>1</td>\n",
       "      <td>132567</td>\n",
       "      <td>9</td>\n",
       "      <td>27</td>\n",
       "      <td>0.333333</td>\n",
       "    </tr>\n",
       "    <tr>\n",
       "      <th>16818</th>\n",
       "      <td>0</td>\n",
       "      <td>11718</td>\n",
       "      <td>1</td>\n",
       "      <td>6</td>\n",
       "      <td>0.166667</td>\n",
       "    </tr>\n",
       "  </tbody>\n",
       "</table>\n",
       "<p>16819 rows × 5 columns</p>\n",
       "</div>"
      ],
      "text/plain": [
       "       exp_group  user_id  likes  views       ctr\n",
       "0              1   109963     10     34  0.294118\n",
       "1              1    18392     13     56  0.232143\n",
       "2              0     4504     26     71  0.366197\n",
       "3              0   121508     23    109  0.211009\n",
       "4              0   129565     26    159  0.163522\n",
       "...          ...      ...    ...    ...       ...\n",
       "16814          1    23359     29    188  0.154255\n",
       "16815          0     3681     13     74  0.175676\n",
       "16816          1   110956     11     65  0.169231\n",
       "16817          1   132567      9     27  0.333333\n",
       "16818          0    11718      1      6  0.166667\n",
       "\n",
       "[16819 rows x 5 columns]"
      ]
     },
     "execution_count": 14,
     "metadata": {},
     "output_type": "execute_result"
    }
   ],
   "source": [
    "df"
   ]
  },
  {
   "cell_type": "code",
   "execution_count": 15,
   "id": "4d5d9530-d1ec-48b9-86cd-b919c1026b03",
   "metadata": {},
   "outputs": [],
   "source": [
    "# Разбиваем на группы.\n",
    "group_A = df[df.exp_group\t== 0].copy()\n",
    "group_B = df[df.exp_group\t== 1].copy()"
   ]
  },
  {
   "cell_type": "code",
   "execution_count": 16,
   "id": "557508f4-f70c-448a-b650-523725596cae",
   "metadata": {},
   "outputs": [
    {
     "data": {
      "text/plain": [
       "<seaborn.axisgrid.FacetGrid at 0x7f3de001c7f0>"
      ]
     },
     "execution_count": 16,
     "metadata": {},
     "output_type": "execute_result"
    },
    {
     "data": {
      "image/png": "[encoded data removed]",
      "text/plain": [
       "<Figure size 360x360 with 1 Axes>"
      ]
     },
     "metadata": {
      "needs_background": "light"
     },
     "output_type": "display_data"
    }
   ],
   "source": [
    "# Делаем выборки 10000 раз.\n",
    "ps = []\n",
    "for i in range(10000):\n",
    "    _, p_value = stats.ttest_ind(group_A.ctr.sample(frac = 1, replace = True),\\\n",
    "                                 group_B.ctr.sample(frac = 1, replace = True), equal_var = False)\n",
    "    ps.append(p_value)\n",
    "sns.displot(ps)    "
   ]
  },
  {
   "cell_type": "code",
   "execution_count": 17,
   "id": "76abc942-2057-4f24-9270-196c97b9d684",
   "metadata": {},
   "outputs": [
    {
     "data": {
      "text/plain": [
       "0.0506"
      ]
     },
     "execution_count": 17,
     "metadata": {},
     "output_type": "execute_result"
    }
   ],
   "source": [
    "#Прверяем p-value.\n",
    "sum(np.array(ps)<0.05)/10000"
   ]
  },
  {
   "cell_type": "markdown",
   "id": "30d6bc5d-aa50-4700-8fce-88a17eaf4a4b",
   "metadata": {},
   "source": [
    "#### Вывод: система сплитования работает  корректно.Только в 5% случаев p-value меньше 0,05."
   ]
  },
  {
   "cell_type": "code",
   "execution_count": null,
   "id": "191ca9ba-e559-44e4-a571-c0945880ba74",
   "metadata": {},
   "outputs": [],
   "source": []
  }
 ],
 "metadata": {
  "kernelspec": {
   "display_name": "Python 3 (ipykernel)",
   "language": "python",
   "name": "python3"
  },
  "language_info": {
   "codemirror_mode": {
    "name": "ipython",
    "version": 3
   },
   "file_extension": ".py",
   "mimetype": "text/x-python",
   "name": "python",
   "nbconvert_exporter": "python",
   "pygments_lexer": "ipython3",
   "version": "3.8.10"
  }
 },
 "nbformat": 4,
 "nbformat_minor": 5
}
